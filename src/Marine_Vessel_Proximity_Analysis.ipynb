{
  "nbformat": 4,
  "nbformat_minor": 0,
  "metadata": {
    "colab": {
      "provenance": []
    },
    "kernelspec": {
      "name": "python3",
      "display_name": "Python 3"
    },
    "language_info": {
      "name": "python"
    }
  },
  "cells": [
    {
      "cell_type": "markdown",
      "source": [
        "# Import Libraries"
      ],
      "metadata": {
        "id": "BWtj55lRpoKe"
      }
    },
    {
      "cell_type": "markdown",
      "source": [
        "We will import the libraries needed for the data manipulation and visualization."
      ],
      "metadata": {
        "id": "qlTI5BrvnKSN"
      }
    },
    {
      "cell_type": "code",
      "execution_count": null,
      "metadata": {
        "id": "0qBIN5BJmQ5k"
      },
      "outputs": [],
      "source": [
        "#Import necessary libraries\n",
        "import pandas as pd\n",
        "import numpy as np\n",
        "import matplotlib.pyplot as plt\n",
        "import seaborn as sns"
      ]
    },
    {
      "cell_type": "markdown",
      "source": [
        "# Load the data"
      ],
      "metadata": {
        "id": "XtkK94cJpkAw"
      }
    },
    {
      "cell_type": "markdown",
      "source": [
        "We have a CSV file containing the locations of the vessels with respective columns like **'vessel_id'**, **'timestamp'**, **'latitude'**, and **'longitude'**. Now, we will load this data into a pandas DataFrame."
      ],
      "metadata": {
        "id": "FlqBYPm1ncj-"
      }
    },
    {
      "cell_type": "code",
      "source": [
        "#Load the data into a pandas DataFrame\n",
        "df = pd.read_csv('sample_data.csv')\n",
        "\n",
        "#Display the first 5 rows of the DataFrame\n",
        "print(df)"
      ],
      "metadata": {
        "colab": {
          "base_uri": "https://localhost:8080/"
        },
        "id": "ZbGBInNRm-UA",
        "outputId": "35cb8beb-62e6-44bf-b8fe-74368cf2c769"
      },
      "execution_count": null,
      "outputs": [
        {
          "output_type": "stream",
          "name": "stdout",
          "text": [
            "            mmsi               timestamp        lat         lon\n",
            "0      565761000  2023-03-15 00:27:44+00   1.268780  103.758270\n",
            "1      538008084  2023-03-19 23:30:00+00  43.559620   10.294040\n",
            "2      564654000  2023-03-12 08:22:53+00   1.237250  103.891350\n",
            "3      529123000  2023-03-05 16:47:42+00  29.443670   48.930660\n",
            "4      564780000  2023-03-11 06:35:20+00   1.277550  103.610260\n",
            "...          ...                     ...        ...         ...\n",
            "13496  218719092  2023-03-21 08:30:00+00  44.168871    9.104404\n",
            "13497  564654000  2023-03-13 22:42:16+00   1.257010  103.841010\n",
            "13498  564654000  2023-03-05 10:15:11+00   1.280430  103.907730\n",
            "13499  565761000  2023-03-19 07:30:00+00   1.302624  103.951899\n",
            "13500  564654000  2023-03-17 03:46:29+00   1.251010  103.863580\n",
            "\n",
            "[13501 rows x 4 columns]\n"
          ]
        }
      ]
    },
    {
      "cell_type": "markdown",
      "source": [
        "# Calculate Distance Between Vessels"
      ],
      "metadata": {
        "id": "1gCjYdfMpeDZ"
      }
    },
    {
      "cell_type": "markdown",
      "source": [
        "As instructed, we will use the Haversine formula to calculate the distance between two vessel locations. To do this, we will defile a function for the Haversine distance and then apply pandas vectorization method on it as mentioned in the assignment."
      ],
      "metadata": {
        "id": "rUDuBYfjoxSX"
      }
    },
    {
      "cell_type": "code",
      "source": [
        "# Define a function to calculate the Haversine distance\n",
        "def haversine(lon1, lat1, lon2, lat2):\n",
        "  # Convert latitude and longitude from degrees to radians\n",
        "  lon1, lat1, lon2, lat2 = map(np.radians, [lon1, lat1, lon2, lat2])\n",
        "\n",
        "  # Haversine formula\n",
        "  dlon = lon2 - lon1\n",
        "  dlat = lat2 - lat1\n",
        "  a = np.sin(dlat/2) ** 2 + np.cos(lat1) * np.cos(lat2) * np.sin(dlon/2) ** 2\n",
        "  c = 2 * np.arcsin(np.sqrt(a))\n",
        "\n",
        "  # Radius of the Earth in kilometers (mean radius)\n",
        "  r = 6371.0\n",
        "\n",
        "  # Calculate the results\n",
        "  return c * r\n",
        "\n",
        "# Create a key column for Cartesian product\n",
        "df['key'] = 1\n",
        "\n",
        "# Perform a Cartesian product\n",
        "df_pairs = df.merge(df, on='key', suffixes=('_1', '_2'))\n",
        "\n",
        "# Remove self-pairs (where a vessel is paired with itself)\n",
        "df_pairs = df_pairs[df_pairs['mmsi_1'] != df_pairs['mmsi_2']]\n",
        "\n",
        "# Calculate distances in a vectorized manner\n",
        "df_pairs['distance'] = haversine(\n",
        "    df_pairs['lon_1'], df_pairs['lat_1'],\n",
        "    df_pairs['lon_2'], df_pairs['lat_2']\n",
        "    )\n",
        "\n",
        "# Display the DataFrame with calculated distances\n",
        "print(df_pairs.head())\n"
      ],
      "metadata": {
        "id": "jtHXmT09pXfF"
      },
      "execution_count": null,
      "outputs": []
    },
    {
      "cell_type": "markdown",
      "source": [
        "# Filter Close Proximities"
      ],
      "metadata": {
        "id": "XgLvPhZytNZm"
      }
    },
    {
      "cell_type": "markdown",
      "source": [
        "Next, we will filter the data to find vessels that lie within a certain proximity distance. Let's assume we are interested in vessels that are within 1 km of each other."
      ],
      "metadata": {
        "id": "39nF82KotSLN"
      }
    },
    {
      "cell_type": "code",
      "source": [
        "# Set the proximity threshold in kilometers\n",
        "proximity_threshold = 1.0\n",
        "\n",
        "# Filter vessels within the proximity threshold\n",
        "close_proximity_df = df_merged[df_merged['distance'] <= proximity_threshold]\n",
        "\n",
        "# Display the vessels in close proximity\n",
        "print(close_proximity_df.head(5))"
      ],
      "metadata": {
        "id": "gDV8OP3htRC_"
      },
      "execution_count": null,
      "outputs": []
    },
    {
      "cell_type": "markdown",
      "source": [
        "# Visualize the result\n",
        "\n",
        "Finally, we will visualize the positions of the vessels and highlight those in close proximity. We will use Matplotlib and Seaborn for this.\n",
        "\n"
      ],
      "metadata": {
        "id": "IHVJJR8hvFr1"
      }
    },
    {
      "cell_type": "code",
      "source": [
        "# Plot all vessel positions\n",
        "plt.figure(figsize=(10, 8))\n",
        "sns.scatterplot(data=df, x='longitude', y='latitude', hue='vessel_id', palette='tab10', legend=None)\n",
        "\n",
        "# Highlight vessel in close proximity\n",
        "for _, row in close_proximity_df.iterrows():\n",
        "    plt.plot([row['longitude_1'], row['longitude_2']], [row['latitude_1'], row['latitude_2']], 'r-', alpha = 0.6)\n",
        "\n",
        "# Add labels and title\n",
        "plt.title('Marine Vessel Positions and Close Proximities')\n",
        "plt.xlabel('Longitude')\n",
        "plt.ylabel('Latitude')\n",
        "plt.grid(True)\n",
        "\n",
        "# Show plot\n",
        "plt.show()"
      ],
      "metadata": {
        "id": "pFXH9srevOjQ"
      },
      "execution_count": null,
      "outputs": []
    },
    {
      "cell_type": "code",
      "source": [],
      "metadata": {
        "id": "LdqPqvFYvJUH"
      },
      "execution_count": null,
      "outputs": []
    }
  ]
}